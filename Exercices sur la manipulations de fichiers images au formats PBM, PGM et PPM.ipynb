{
 "cells": [
  {
   "cell_type": "markdown",
   "metadata": {},
   "source": [
    "# Manipulation d'images"
   ]
  },
  {
   "cell_type": "markdown",
   "metadata": {
    "scrolled": true
   },
   "source": [
    "Nous allons d'abord rappeler quelques notions de base sur la manipulation de fichiers avec Pyhton."
   ]
  },
  {
   "cell_type": "markdown",
   "metadata": {},
   "source": [
    "## Création d' un fichier en mode écriture"
   ]
  },
  {
   "cell_type": "markdown",
   "metadata": {},
   "source": [
    "La fonction *open(arg1,arg2,arg3)* créé un objet qui permet de traiter un flux d'informations, comme par exemple l'ouverture d'un fichier. Le premier paramètre de la fonction est le chemin du fichier, une chaîne de caratères, le second est le mode de traitement du fichier, lecture, écriture ou ajout, et le dernier paramètre est optionnel, il indique l'encodage du fichier."
   ]
  },
  {
   "cell_type": "markdown",
   "metadata": {},
   "source": [
    "Pour écrire du contenu dans un fichier on peut ouvrir ce fichier selon un des trois modes suivants :\n",
    "* Mode écriture \"w\" : Ouvre le fichier en le créant s'il n'existe pas ou en supprimant son contenu s'il existe déjà.\n",
    "* Mode création exclusive \"x\" : Ouvre le fichier en le créant s'il n'existe pas. Si le fichier existe déjà la création échoue et Python renvoie un message d'erreur.\n",
    "* Mode ajout \"a\" : Ouvre le fichier en le créant s'il n'existe pas et ajoute le nouveau contenu à la suite du dernier caractère du fichier."
   ]
  },
  {
   "cell_type": "code",
   "execution_count": 1,
   "metadata": {},
   "outputs": [],
   "source": [
    "flux = open(\"monFichier\", \"w\", encoding =\"utf-8\")"
   ]
  },
  {
   "cell_type": "markdown",
   "metadata": {},
   "source": [
    "Après exécution du code précédent nous pouvons vérifier qu'un fichier texte nommé *monFichier* est présent dans notre répertoire courant. Ce fichier est vide, il a une taille de 0 Ko.\n",
    "\n",
    "Nous pouvons maintenant écrire du texte dans ce fichier en utilisant la méthode **write(arg)**, qui prend en argument une chaine de caracatères."
   ]
  },
  {
   "cell_type": "code",
   "execution_count": 2,
   "metadata": {},
   "outputs": [],
   "source": [
    "flux.write(\"Le fichier créé se nomme 'monFichier' et il contient du texte que nous écrivons en utilisant la méthode 'write()'.\")\n",
    "flux.close()"
   ]
  },
  {
   "cell_type": "markdown",
   "metadata": {},
   "source": [
    "Après avoir fini d'écrire dans le fichier nous devons le refermer pour éviter des erreurs de manipulation du fichier par la suite. La méthode **close()** est utilisée pour cela."
   ]
  },
  {
   "cell_type": "markdown",
   "metadata": {},
   "source": [
    "Si maintenant on tente d'ouvrir le fichier *monFichier* en utilisant le mode création exclusive \"x\" Python nous enverra un message d'erreur."
   ]
  },
  {
   "cell_type": "code",
   "execution_count": 3,
   "metadata": {},
   "outputs": [
    {
     "ename": "FileExistsError",
     "evalue": "[Errno 17] File exists: 'monFichier'",
     "output_type": "error",
     "traceback": [
      "\u001b[1;31m---------------------------------------------------------------------------\u001b[0m",
      "\u001b[1;31mFileExistsError\u001b[0m                           Traceback (most recent call last)",
      "\u001b[1;32m<ipython-input-3-e97558b7841b>\u001b[0m in \u001b[0;36m<module>\u001b[1;34m()\u001b[0m\n\u001b[1;32m----> 1\u001b[1;33m \u001b[0mflux\u001b[0m \u001b[1;33m=\u001b[0m \u001b[0mopen\u001b[0m\u001b[1;33m(\u001b[0m\u001b[1;34m\"monFichier\"\u001b[0m\u001b[1;33m,\u001b[0m \u001b[1;34m\"x\"\u001b[0m\u001b[1;33m,\u001b[0m \u001b[0mencoding\u001b[0m \u001b[1;33m=\u001b[0m\u001b[1;34m\"utf-8\"\u001b[0m\u001b[1;33m)\u001b[0m\u001b[1;33m\u001b[0m\u001b[0m\n\u001b[0m",
      "\u001b[1;31mFileExistsError\u001b[0m: [Errno 17] File exists: 'monFichier'"
     ]
    }
   ],
   "source": [
    "flux = open(\"monFichier\", \"x\", encoding =\"utf-8\")"
   ]
  },
  {
   "cell_type": "markdown",
   "metadata": {},
   "source": [
    "## Ouverture d'un fichier pour y ajouter du contenu"
   ]
  },
  {
   "cell_type": "markdown",
   "metadata": {},
   "source": [
    "Pour ajouter du contenu à un fichier existant nous allons ouvrir ce fichier en mode ajout. Le deuxième paramètre de la fonction *open* doit alors prendre la valeur \"a\"."
   ]
  },
  {
   "cell_type": "code",
   "execution_count": null,
   "metadata": {},
   "outputs": [],
   "source": [
    "flux = open(\"monFichier\", \"a\",encoding =\"utf-8\")\n",
    "flux.write('\\nCette deuxième ligne a été ajoutée en ouvrant le fichier en mode \"a\".')\n",
    "flux.close()"
   ]
  },
  {
   "cell_type": "markdown",
   "metadata": {},
   "source": [
    "## Ouverture d'un fichier pour lire son contenu"
   ]
  },
  {
   "cell_type": "markdown",
   "metadata": {},
   "source": [
    "Pour lire du contenu à un fichier existant nous allons ouvrir ce fichier en mode lecture, le deuxième paramètre de la fonction *open* doit alors prendre la valeur \"r\", et utiliser une des méthodes proposées par Python pour lire le contenu d'un fichier."
   ]
  },
  {
   "cell_type": "markdown",
   "metadata": {},
   "source": [
    "### Méthode *read*"
   ]
  },
  {
   "cell_type": "markdown",
   "metadata": {},
   "source": [
    "#### Lecture du fichier en entier"
   ]
  },
  {
   "cell_type": "markdown",
   "metadata": {},
   "source": [
    "Le fichier *monFichier* est ouvert en mode lecture s'il existe et son contenu est lu grâce à la méthode *read()* et est ensuite stocké dans le variable *contenu*. La méthode *read()* renvoie une valeur de tyre *string*, cha^nes de caractères."
   ]
  },
  {
   "cell_type": "code",
   "execution_count": null,
   "metadata": {
    "scrolled": true
   },
   "outputs": [],
   "source": [
    "flux = open(\"monFichier\", \"r\", encoding =\"utf-8\")\n",
    "contenu = flux.read()\n",
    "flux.close()\n",
    "contenu"
   ]
  },
  {
   "cell_type": "markdown",
   "metadata": {},
   "source": [
    "Attention. Nous avons créée notre fichier en utilsant l'encodage \"utf-8\", si nous ne renseignons pas la valeur du paramètre *encoding* nous risquons d'avoir un contenu peu lisible renvoyé par la méthode *read()*."
   ]
  },
  {
   "cell_type": "code",
   "execution_count": null,
   "metadata": {},
   "outputs": [],
   "source": [
    "flux = open(\"monFichier\", \"r\")\n",
    "contenu = flux.read()\n",
    "flux.close()\n",
    "contenu"
   ]
  },
  {
   "cell_type": "markdown",
   "metadata": {},
   "source": [
    "* **Attention**. Si le fichier \"monFichier\" n'existe pas, Python lève une erreur. Il faut donc penser à la gestion des erreurs en utilisant l'ins truction *try .. except* par exemple."
   ]
  },
  {
   "cell_type": "code",
   "execution_count": null,
   "metadata": {},
   "outputs": [],
   "source": [
    "try :\n",
    "    flux = open(\"monFihier\", \"r\")\n",
    "    contenu2 = flux.read()\n",
    "    flux.close()\n",
    "except Exception as e:\n",
    "    print(e)\n",
    "    print(\"Problème rencontré pour ouvrir le fichier. Vérifiez que ce dernier existe bien !\")\n",
    "print(contenu2)\n"
   ]
  },
  {
   "cell_type": "markdown",
   "metadata": {},
   "source": [
    "**Quelques explications**. Si le fichier *\"monFihier\"* existe alors Python exécute les instructions suivantes du bloc *try* et ignore le bloc *except*. Si le fichier *\"monFihier\"* n'existe pas alors le bloc *try* n'est pas exécuté, c'est le bloc *except* qui l'est.\n",
    "\n",
    "Dans notre cas, puisque le fchier *monFihier* n'existe pas, une exeption est levée et le bloc *except* est exécuté."
   ]
  },
  {
   "cell_type": "markdown",
   "metadata": {},
   "source": [
    "#### Lecture d'un nombre précis de caractères"
   ]
  },
  {
   "cell_type": "markdown",
   "metadata": {},
   "source": [
    "On peut lire un nombre de caractères donné dans le fichier en utilisant la méthode *read()* avec un argument qui exprime le nombre de caractères à lire.\n",
    "\n",
    "Le code suivant permet de lire les 10 premiers caractères du fichier. Puis les 5 suivants."
   ]
  },
  {
   "cell_type": "code",
   "execution_count": null,
   "metadata": {},
   "outputs": [],
   "source": [
    "try :\n",
    "    flux = open(\"monFichier\", \"r\", encoding = \"utf-8\")\n",
    "    chaine1 = flux.read(10)\n",
    "    chaine2 = flux.read(5)\n",
    "    flux.close()\n",
    "except Exception as e:\n",
    "    print(e)\n",
    "    print(\"Problème rencontré pour ouvrir le fichier. Vérifiez que ce dernier existe bien !\")\n",
    "print(chaine1)\n",
    "print(chaine2)"
   ]
  },
  {
   "cell_type": "markdown",
   "metadata": {},
   "source": [
    "### Méthode *readline*"
   ]
  },
  {
   "cell_type": "markdown",
   "metadata": {},
   "source": [
    "On peut lire le contenu du fichier par ligne en utilisant la méthode *readline()*. Cette méthode renvoie tout le contenu du fichier rencontré jusqu'au premier caractère de saut de ligne '\\n'. On l'utilise lorsqu'on souhaite lire le contenu d'un fichier ligne par ligne. La méthode *readline()* renvoie une chaîne vide lorsqu'elle arrive à la fin du fichier."
   ]
  },
  {
   "cell_type": "code",
   "execution_count": null,
   "metadata": {
    "scrolled": true
   },
   "outputs": [],
   "source": [
    "try :\n",
    "    flux = open(\"monFichier\", \"r\", encoding =\"utf-8\")\n",
    "    ligne1 = flux.readline()\n",
    "    ligne2 = flux.readline()\n",
    "    ligne3 = flux.readline()\n",
    "    flux.close()\n",
    "except Exception as e:\n",
    "    print(e)\n",
    "    print(\"Problème rencontré pour ouvrir le fichier. Vérifiez que ce dernier existe bien !\")\n",
    "ligne1\n"
   ]
  },
  {
   "cell_type": "code",
   "execution_count": null,
   "metadata": {
    "scrolled": true
   },
   "outputs": [],
   "source": [
    "ligne2"
   ]
  },
  {
   "cell_type": "code",
   "execution_count": null,
   "metadata": {},
   "outputs": [],
   "source": [
    "ligne3"
   ]
  },
  {
   "cell_type": "markdown",
   "metadata": {},
   "source": [
    "La variable *ligne3* contient une chaîne vide car la fin du fichier a été atteinte."
   ]
  },
  {
   "cell_type": "markdown",
   "metadata": {},
   "source": [
    "### Méthode *readlines*"
   ]
  },
  {
   "cell_type": "markdown",
   "metadata": {},
   "source": [
    " La méthode *readlines()* renvoie tout le contenu du fichier sous la forme d'une liste à un élément."
   ]
  },
  {
   "cell_type": "code",
   "execution_count": 4,
   "metadata": {},
   "outputs": [
    {
     "name": "stdout",
     "output_type": "stream",
     "text": [
      "[\"Le fichier créé se nomme 'monFichier' et il contient du texte que nous écrivons en utilisant la méthode 'write()'.\"]\n"
     ]
    }
   ],
   "source": [
    "try :\n",
    "    flux = open(\"monFichier\", \"r\", encoding =\"utf-8\")\n",
    "    contenu3 = flux.readlines()\n",
    "    flux.close()\n",
    "except Exception as e:\n",
    "    print(e)\n",
    "    print(\"Problème rencontré pour ouvrir le fichier. Vérifiez que ce dernier existe bien !\")\n",
    "print(contenu3)"
   ]
  },
  {
   "cell_type": "markdown",
   "metadata": {},
   "source": [
    "## Correction des exercices donnés en classe."
   ]
  },
  {
   "cell_type": "markdown",
   "metadata": {},
   "source": [
    "### **Exercice 1**\n",
    " \n",
    "Écrire un script qui créé un fichier texte contenant 20 lignes. Une ligne sur deux sera\n",
    "constituee de 50 chiffres 1 et l’autre de 50 chiffres 0."
   ]
  },
  {
   "cell_type": "code",
   "execution_count": 5,
   "metadata": {},
   "outputs": [],
   "source": [
    "f = open(\"fichierEx1\",\"w\", encoding = 'utf-8')\n",
    "for i  in range(20):\n",
    "    if i%2 == 0 :\n",
    "        for j in range(50):\n",
    "            f.write('1')\n",
    "        f.write('\\n')\n",
    "    else :\n",
    "        for j in range(50):\n",
    "            f.write('0')\n",
    "        f.write('\\n')\n",
    "f.close()"
   ]
  },
  {
   "cell_type": "markdown",
   "metadata": {},
   "source": [
    "### **Exercice 2**\n",
    "\n",
    "Écrire un script qui crée une image au format PBM de dimension 100x100 representantune croix noire de largeur 30 pixels centre sur un fond blanc."
   ]
  },
  {
   "cell_type": "code",
   "execution_count": 6,
   "metadata": {},
   "outputs": [],
   "source": [
    "f = open(\"fichierEx2.pbm\",\"w\")\n",
    "f.write('P1\\n100\\n100\\n')\n",
    "for y in range(100):\n",
    "    for x in range(100):\n",
    "        if 35<x<65 or 35<y<65 :\n",
    "            f.write('1')\n",
    "        else :\n",
    "            f.write('0')\n",
    "    #f.write('\\n')\n",
    "f.close()"
   ]
  },
  {
   "cell_type": "markdown",
   "metadata": {},
   "source": [
    "### **Exercice 3**\n",
    "\n",
    "Écrire un script qui cree une image au format PPM de dimension 400x400 qui represente le drapeau de la France."
   ]
  },
  {
   "cell_type": "code",
   "execution_count": 7,
   "metadata": {},
   "outputs": [],
   "source": [
    "f = open(\"Drapeau France.ppm\", \"w\")\n",
    "f.write('P3\\n#Créé sous Python : ISN 2017\\n900\\n500\\n255\\n')\n",
    "#Image de largeur 600, donc le nombre de pixels par lignes soit le nombre de colonnes\n",
    "#du tableau des pixels.\n",
    "#Image de hauteur 500, donc le nombre de pixels par colonnes soit le nombre de lignes\n",
    "#du tableau de pixels.\n",
    "for ligne in range(500): #Parcours des lignes\n",
    "    for colonne in range(900): #Parcours des colonnes\n",
    "        if colonne<300 :\n",
    "            f.write('0\\n0\\n255\\n')\n",
    "        if colonne>=300 and colonne<600 :\n",
    "            f.write('255\\n255\\n255\\n')\n",
    "        if colonne>=600 :\n",
    "            f.write('255\\n0\\n0\\n')\n",
    "f.close()"
   ]
  }
 ],
 "metadata": {
  "kernelspec": {
   "display_name": "Python 3",
   "language": "python",
   "name": "python3"
  },
  "language_info": {
   "codemirror_mode": {
    "name": "ipython",
    "version": 3
   },
   "file_extension": ".py",
   "mimetype": "text/x-python",
   "name": "python",
   "nbconvert_exporter": "python",
   "pygments_lexer": "ipython3",
   "version": "3.6.3"
  },
  "latex_envs": {
   "LaTeX_envs_menu_present": true,
   "autoclose": true,
   "autocomplete": true,
   "bibliofile": "biblio.bib",
   "cite_by": "apalike",
   "current_citInitial": 1,
   "eqLabelWithNumbers": true,
   "eqNumInitial": 1,
   "hotkeys": {
    "equation": "Ctrl-E",
    "itemize": "Ctrl-I"
   },
   "labels_anchors": false,
   "latex_user_defs": false,
   "report_style_numbering": false,
   "user_envs_cfg": false
  },
  "toc": {
   "nav_menu": {},
   "number_sections": false,
   "sideBar": true,
   "skip_h1_title": false,
   "title_cell": "Table of Contents",
   "title_sidebar": "Contents",
   "toc_cell": false,
   "toc_position": {
    "height": "214px",
    "left": "1186px",
    "top": "111.133px",
    "width": "226px"
   },
   "toc_section_display": true,
   "toc_window_display": true
  }
 },
 "nbformat": 4,
 "nbformat_minor": 2
}
