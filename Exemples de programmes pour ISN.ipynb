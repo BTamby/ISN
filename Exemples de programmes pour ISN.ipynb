{
 "cells": [
  {
   "cell_type": "markdown",
   "metadata": {},
   "source": [
    "## I. Animation dans une fenêtre graphique"
   ]
  },
  {
   "cell_type": "markdown",
   "metadata": {},
   "source": [
    "Lorsqu'on pratique la programmation procédurale, l'animation d'objets dans une fenêtre graphique est rendu possible grâce à l'utilisation de variables globales et de la récurisivité, le fait q'une  fonction s'appelle elle même."
   ]
  },
  {
   "cell_type": "code",
   "execution_count": 1,
   "metadata": {},
   "outputs": [],
   "source": [
    "from tkinter import*"
   ]
  },
  {
   "cell_type": "code",
   "execution_count": 5,
   "metadata": {},
   "outputs": [],
   "source": [
    "from math import cos,sin"
   ]
  },
  {
   "cell_type": "markdown",
   "metadata": {},
   "source": [
    "### 1) Déplacement linéaire autonome d'une balle\n",
    "\n",
    "La fonction ci-dessous gère le déplacement linéaire avec rebond d'une balle. "
   ]
  },
  {
   "cell_type": "code",
   "execution_count": 6,
   "metadata": {},
   "outputs": [],
   "source": [
    "def lineaire() :\n",
    "    global p1, dx, dy\n",
    "    p1 = can.coords(balle1)\n",
    "    if p1[0]>l_can-2*rayon :\n",
    "        dx = -dx\n",
    "    if p1[0]<0 :\n",
    "        dx = v\n",
    "    if p1[1]>h_can-2*rayon :\n",
    "        dy = -dy\n",
    "    if p1[1]<0 :\n",
    "        dy = v\n",
    "    can.move(balle1, dx,dy)\n",
    "    can.create_oval(p1[0]+rayon, p1[1]+rayon,p1[0]+rayon, p1[1]+rayon,fill ='blue', outline = 'blue')#Trajectoire du centre de la balle\n",
    "    if not stop :\n",
    "        f1.after(32, lineaire) #Appel récursif de la fonction \"lineaire\" tous les 32 milisecondes."
   ]
  },
  {
   "cell_type": "markdown",
   "metadata": {},
   "source": [
    "### 2) Déplacement circulaire autonome d'une balle\n",
    "\n",
    "La fonction ci-dessous gère le déplacement circulaire d'une balle."
   ]
  },
  {
   "cell_type": "code",
   "execution_count": 7,
   "metadata": {},
   "outputs": [],
   "source": [
    "def circulaire() :\n",
    "    global a,x,y, stop\n",
    "    \n",
    "    a = a+dt\n",
    "    aff = '{0:.2f}'.format(a)\n",
    "    x = p2[0]+Rx*cos(a)\n",
    "    y = p2[1]+Ry*sin(a)\n",
    "    if a < 6.32 :\n",
    "        can.create_oval(x,y,x,y,fill ='red', outline = 'red')#Trajectoire du centre de la balle\n",
    "    can.coords(balle2, x-rayon,y-rayon, x+rayon,y+rayon ) #Dépalcement de la balle\n",
    "    can.itemconfigure(texte,text = aff)\n",
    "    if not stop :\n",
    "        animation.configure(state = DISABLED)\n",
    "        arret.configure(state = NORMAL)\n",
    "        f1.after(32, circulaire)"
   ]
  },
  {
   "cell_type": "code",
   "execution_count": 8,
   "metadata": {},
   "outputs": [],
   "source": [
    "def animer():\n",
    "    global stop\n",
    "    stop = False\n",
    "    circulaire()\n",
    "    lineaire()  "
   ]
  },
  {
   "cell_type": "code",
   "execution_count": 9,
   "metadata": {},
   "outputs": [],
   "source": [
    "def arreter():\n",
    "    global stop\n",
    "    stop = True\n",
    "    arret.configure(state = DISABLED)\n",
    "    animation.configure(state = NORMAL)\n"
   ]
  },
  {
   "cell_type": "markdown",
   "metadata": {},
   "source": [
    "###  3) Création de la fenêtre graphique et appel des fonctions précédentes"
   ]
  },
  {
   "cell_type": "code",
   "execution_count": 10,
   "metadata": {},
   "outputs": [],
   "source": [
    "f1 = Tk()\n",
    "l_can,h_can = 600,400\n",
    "p1 = (30,30)\n",
    "p2 = (300,200)\n",
    "rayon = 40\n",
    "Rx = 150\n",
    "Ry = 100\n",
    "v = 10\n",
    "dx, dy = v, v\n",
    "dt = 0.05\n",
    "a = 0.0\n",
    "x = p2[0]+Rx*cos(a)\n",
    "y = p2[1]+Ry*sin(a)\n",
    "can = Canvas(f1, width = l_can, height = h_can, bg ='#223311')\n",
    "animation = Button(f1, text ='Démarrer', command = animer)\n",
    "arret = Button(f1, text = 'Stop', command = arreter)\n",
    "balle1 = can.create_oval(p1[0]-rayon,p1[1]-rayon,p1[0]+rayon,p1[1]+rayon,fill ='blue', outline = 'blue')\n",
    "balle2 = can.create_oval(x-rayon,y-rayon,x+rayon,y+rayon ,fill ='red', outline = 'red')\n",
    "texte= can.create_text(500, 50, text = str(a))\n",
    "can.pack()\n",
    "animation.pack(side = LEFT, padx = 50)\n",
    "arret.pack(side = RIGHT, padx = 50)\n",
    "f1.mainloop()"
   ]
  },
  {
   "cell_type": "markdown",
   "metadata": {},
   "source": [
    "## II. Déplacement d'un objet dans un canevas à l'aide des touches du clavier"
   ]
  },
  {
   "cell_type": "code",
   "execution_count": 26,
   "metadata": {},
   "outputs": [],
   "source": [
    "def deplacer(event):\n",
    "    global dx,dy\n",
    "    touche = event.keysym\n",
    "    x,y = can.coords(voiture)[0],can.coords(voiture)[1]\n",
    "    if touche == 'Up':\n",
    "        can.move(voiture,0,-dy)\n",
    "    if touche == 'Down':\n",
    "        can.move(voiture,0,dy)\n",
    "    if touche == 'Left':\n",
    "        can.move(voiture,-dx,0)\n",
    "    if touche == 'Right':\n",
    "        can.move(voiture,dx,0)\n",
    "    if x < 10 :\n",
    "        #sound.play()\n",
    "        f2.unbind('<KeyPress>')\n",
    "        can.delete(voiture)\n",
    "        can.create_image(x, y, anchor=NW, image=img1)\n",
    "        #sound.play()\n",
    "    if x > l_can-100 :\n",
    "        #sound.play()\n",
    "        f2.unbind('<KeyPress>')\n",
    "        can.delete(voiture)\n",
    "        can.create_image(x, y, anchor=NW, image=img2)       "
   ]
  },
  {
   "cell_type": "code",
   "execution_count": 27,
   "metadata": {},
   "outputs": [],
   "source": [
    "#pygame.init()\n",
    "#pygame.mixer.init() #mixer module Intialization#pygame.init()\n",
    "#pygame.mixer.init() #mixer module Intialization\n",
    "#sound = pygame.mixer.Sound('Do.wav') #creating an audio object\n",
    "v = 10\n",
    "dx, dy = v,v\n",
    "f2 = Tk()\n",
    "l_can,h_can = 600,400\n",
    "can = Canvas(f2, width = l_can, height = h_can, bg ='#eaeaea')\n",
    "img0 = PhotoImage(file = \"4x4.png\")\n",
    "img1 = PhotoImage(file = \"4x4_boum1.png\")\n",
    "img2 = PhotoImage(file = \"4x4_boum2.png\")\n",
    "voiture = can.create_image(100, 50, anchor=NW, image=img0)\n",
    "can.pack()\n",
    "f2.bind('<KeyPress>', deplacer)\n",
    "f2.mainloop()\n",
    "pygame.quit()"
   ]
  },
  {
   "cell_type": "markdown",
   "metadata": {},
   "source": [
    "## III. Ajouter du son dans un programme  avec Pygame"
   ]
  },
  {
   "cell_type": "markdown",
   "metadata": {},
   "source": [
    "### 1) Bruit d'un *crash* "
   ]
  },
  {
   "cell_type": "markdown",
   "metadata": {},
   "source": [
    "Le module *Mixer* de la bibliothèque **Pygame** peut permettre l'ajout de sons dans un programme graphique utilisant la bibliothèque **Tkinter**. <br/>\n",
    "Dans le programme précédent, nous allons ajouter le son d'un *crash* lorsque le véhicule heurte le bord droit ou gauche de l'écran.<br/>\n",
    "Comme souvent, avant d'utiliser une bibliothèque sous Python, il faut l'importer."
   ]
  },
  {
   "cell_type": "code",
   "execution_count": 2,
   "metadata": {},
   "outputs": [],
   "source": [
    "import pygame"
   ]
  },
  {
   "cell_type": "markdown",
   "metadata": {},
   "source": [
    "Modifions maintenant le programme précédent et la fonction *deplacer* en ajoutant les lignes de codes nécessaires pour jouer un son avec le module *Mixer* de **Pygame**."
   ]
  },
  {
   "cell_type": "code",
   "execution_count": 43,
   "metadata": {},
   "outputs": [],
   "source": [
    "def deplacer_V2(event):\n",
    "    global dx,dy\n",
    "    touche = event.keysym\n",
    "    x,y = can.coords(voiture)[0],can.coords(voiture)[1]\n",
    "    if touche == 'Up':\n",
    "        can.move(voiture,0,-dy)\n",
    "    if touche == 'Down':\n",
    "        can.move(voiture,0,dy)\n",
    "    if touche == 'Left':\n",
    "        can.move(voiture,-dx,0)\n",
    "    if touche == 'Right':\n",
    "        can.move(voiture,dx,0)\n",
    "    if x < 5 :\n",
    "        bruit.play() # Production du son\n",
    "        f2.unbind('<KeyPress>')\n",
    "        can.delete(voiture)\n",
    "        can.create_image(x, y, anchor=NW, image=img1)\n",
    "    if x > l_can-100 :\n",
    "        bruit.play() # Production du son\n",
    "        f2.unbind('<KeyPress>')\n",
    "        can.delete(voiture)\n",
    "        can.create_image(x, y, anchor=NW, image=img2)       "
   ]
  },
  {
   "cell_type": "code",
   "execution_count": 47,
   "metadata": {},
   "outputs": [],
   "source": [
    "pygame.init() # Initialisation nécessaire avant la première utilisation dans un programme\n",
    "pygame.mixer.init() # Initialisation du module mixer \n",
    "bruit = pygame.mixer.Sound('crash.wav') # Création du son à partir d'un fichier son au format .wav\n",
    "#***************** La suite reste inchangée à quelques détails ********************#\n",
    "v = 10\n",
    "dx, dy = v,v\n",
    "f2 = Tk()\n",
    "l_can,h_can = 600,400\n",
    "can = Canvas(f2, width = l_can, height = h_can, bg ='#eaeaea')\n",
    "img0 = PhotoImage(file = \"4x4.png\")\n",
    "img1 = PhotoImage(file = \"4x4_boum1.png\")\n",
    "img2 = PhotoImage(file = \"4x4_boum2.png\")\n",
    "voiture = can.create_image(100, 50, anchor=NW, image=img0)\n",
    "can.pack()\n",
    "f2.bind('<KeyPress>', deplacer_V2) # Référence à la fonction *deplacer* qui doit être modifié\n",
    "f2.mainloop()\n",
    "# On quitte **Pygame** par précaution mais en général python ferme toutes les bibliothèques en terminant un programme\n",
    "pygame.quit()"
   ]
  },
  {
   "cell_type": "markdown",
   "metadata": {},
   "source": [
    "### 2) Des notes de musiques"
   ]
  },
  {
   "cell_type": "markdown",
   "metadata": {},
   "source": [
    "Le programme suivant utilise aussi le module *Mixer* de *Pygame* pour jouer des notes de musique en imitant un piano."
   ]
  },
  {
   "cell_type": "code",
   "execution_count": 11,
   "metadata": {},
   "outputs": [],
   "source": [
    "def jouer(num):\n",
    "    note = notes[num]\n",
    "    note.play()"
   ]
  },
  {
   "cell_type": "code",
   "execution_count": 48,
   "metadata": {},
   "outputs": [],
   "source": [
    "pygame.init()\n",
    "pygame.mixer.init() #mixer module Intialization#pygame.init()\n",
    "f3 =Tk()\n",
    "f3.title('Mini mini piano')\n",
    "nom_notes = ['Do','Ré','Mi','Fa','Sol','La','Si']\n",
    "fichiers = ['Do.wav','Re.wav','Mi.wav','Fa.wav','Sol.wav','La.wav','Si.wav']\n",
    "boutons = []\n",
    "notes = []\n",
    "for fichier in fichiers :\n",
    "    notes.append(pygame.mixer.Sound(fichier))\n",
    "msg = Label(f3,text = '7 NOTES')\n",
    "myfont = (\"Arial\", \"14\")\n",
    "for i in range(7):\n",
    "    n=Button(f3,text = nom_notes[i], font = myfont, \\\n",
    "             width = 4, height = 8, relief = RAISED, bg = '#fff', bd = 10,\\\n",
    "             command = lambda arg = i:jouer(arg))\n",
    "    boutons.append(n)\n",
    "    \n",
    "msg.pack()\n",
    "for b in boutons:\n",
    "    b.pack(side=LEFT)\n",
    "f3.mainloop()\n",
    "pygame.quit()"
   ]
  }
 ],
 "metadata": {
  "kernelspec": {
   "display_name": "Python 3",
   "language": "python",
   "name": "python3"
  },
  "language_info": {
   "codemirror_mode": {
    "name": "ipython",
    "version": 3
   },
   "file_extension": ".py",
   "mimetype": "text/x-python",
   "name": "python",
   "nbconvert_exporter": "python",
   "pygments_lexer": "ipython3",
   "version": "3.6.3"
  },
  "latex_envs": {
   "LaTeX_envs_menu_present": true,
   "autoclose": true,
   "autocomplete": true,
   "bibliofile": "biblio.bib",
   "cite_by": "apalike",
   "current_citInitial": 1,
   "eqLabelWithNumbers": true,
   "eqNumInitial": 1,
   "hotkeys": {
    "equation": "Ctrl-E",
    "itemize": "Ctrl-I"
   },
   "labels_anchors": false,
   "latex_user_defs": false,
   "report_style_numbering": false,
   "user_envs_cfg": false
  },
  "toc": {
   "nav_menu": {},
   "number_sections": false,
   "sideBar": true,
   "skip_h1_title": false,
   "title_cell": "Table of Contents",
   "title_sidebar": "Contents",
   "toc_cell": false,
   "toc_position": {
    "height": "100px",
    "left": "1207px",
    "top": "111.133px",
    "width": "159px"
   },
   "toc_section_display": true,
   "toc_window_display": true
  }
 },
 "nbformat": 4,
 "nbformat_minor": 2
}
